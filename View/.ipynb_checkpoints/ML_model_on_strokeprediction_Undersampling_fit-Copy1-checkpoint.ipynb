{
 "cells": [
  {
   "cell_type": "code",
   "execution_count": 69,
   "id": "cf5c7493",
   "metadata": {},
   "outputs": [],
   "source": [
    "import warnings \n",
    "warnings.filterwarnings('ignore')"
   ]
  },
  {
   "cell_type": "code",
   "execution_count": 70,
   "id": "afc01118",
   "metadata": {},
   "outputs": [],
   "source": [
    "import pickle as pkl\n",
    "import pandas as pd\n",
    "import numpy as np\n",
    "import matplotlib.pyplot as plt\n",
    "import seaborn as sns"
   ]
  },
  {
   "cell_type": "code",
   "execution_count": 71,
   "id": "20cf7be6",
   "metadata": {},
   "outputs": [],
   "source": [
    "from sklearn.model_selection import GridSearchCV\n",
    "from sklearn.linear_model import LogisticRegression\n",
    "from sklearn.tree import DecisionTreeClassifier\n",
    "from sklearn import svm\n",
    "from sklearn.svm import SVC\n",
    "import xgboost as xgb\n",
    "from sklearn.naive_bayes import GaussianNB\n",
    "from sklearn.neighbors import KNeighborsClassifier\n",
    "from sklearn.ensemble import RandomForestClassifier,AdaBoostClassifier,GradientBoostingClassifier\n",
    "from sklearn.linear_model import SGDClassifier\n",
    "from sklearn.metrics import accuracy_score\n",
    "from sklearn.model_selection import GridSearchCV, KFold\n",
    "from sklearn.metrics import confusion_matrix, ConfusionMatrixDisplay\n",
    "from sklearn.metrics import classification_report\n",
    "from sklearn.preprocessing import OneHotEncoder"
   ]
  },
  {
   "cell_type": "code",
   "execution_count": 72,
   "id": "fbb018cf",
   "metadata": {},
   "outputs": [],
   "source": [
    "df = pd.read_csv('..\\\\Data\\\\healthcare-dataset-stroke-data.csv')\n",
    "df.head()"
   ]
  },
  {
   "cell_type": "code",
   "execution_count": 73,
   "id": "176b5920",
   "metadata": {},
   "outputs": [],
   "source": [
    "sns.heatmap(df.isnull(),yticklabels=False,cbar=False, cmap='summer')"
   ]
  },
  {
   "cell_type": "code",
   "execution_count": 74,
   "id": "d87820f9",
   "metadata": {},
   "outputs": [],
   "source": [
    "df[\"bmi\"]=df[\"bmi\"].fillna(df[\"bmi\"].mean())"
   ]
  },
  {
   "cell_type": "code",
   "execution_count": 75,
   "id": "28a96113",
   "metadata": {},
   "outputs": [],
   "source": [
    "sns.heatmap(df.isnull(),yticklabels=False,cbar=False)"
   ]
  },
  {
   "cell_type": "code",
   "execution_count": 76,
   "id": "4b25f190",
   "metadata": {},
   "outputs": [],
   "source": [
    "df_numerical = ['id','hypertension','heart_disease','age','avg_glucose_level','bmi','stroke']\n",
    "df_categorical = ['gender','ever_married','work_type','Residence_type','smoking_status']"
   ]
  },
  {
   "cell_type": "code",
   "execution_count": 77,
   "id": "47c2cb28",
   "metadata": {},
   "outputs": [],
   "source": [
    "plt.figure(figsize=(15,8))\n",
    "for i, j in enumerate(['age','bmi','avg_glucose_level']):\n",
    "  plt.subplot(3,4,i+1)\n",
    "  sns.boxplot(y=df[j])\n",
    "  plt.title(f\"{j}\")\n",
    "plt.tight_layout()\n",
    "plt.show()"
   ]
  },
  {
   "cell_type": "code",
   "execution_count": 78,
   "id": "06f020ea",
   "metadata": {},
   "outputs": [],
   "source": [
    "l = [\"bmi\",\"avg_glucose_level\",'age']\n",
    "clist = list()\n",
    "def outlier_counter(l):    \n",
    "    for i in l:\n",
    "        count = 0\n",
    "        Q1  = df[i].quantile(0.25)\n",
    "        Q3  = df[i].quantile(0.75)\n",
    "        IQR = Q3-Q1\n",
    "        Uper = Q3+1.5*IQR\n",
    "        lower = Q1-1.5*IQR\n",
    "        for j in range(df.shape[0]):\n",
    "            if df[i][j] > Uper:\n",
    "                count += 1\n",
    "        clist.append(count)\n",
    "    return clist\n",
    "con = outlier_counter(l)\n",
    "print(f\"Outlier count: \\nBMI = {con[0]}\\navg_glucose_level = {con[1]}\\nage = {con[2]}\")"
   ]
  },
  {
   "cell_type": "code",
   "execution_count": 79,
   "id": "e8519945",
   "metadata": {},
   "outputs": [],
   "source": [
    "def outlier_removal(l):\n",
    "    for i in l:\n",
    "        Q1  = df[i].quantile(0.25)\n",
    "        Q3  = df[i].quantile(0.75)\n",
    "        IQR = Q3-Q1\n",
    "        Uper = Q3+1.5 * IQR\n",
    "        lower = Q1-1.5 * IQR\n",
    "        df[i]  = np.where(df[i]>Uper,Uper,(np.where(df[i]<lower,lower,df[i])))\n",
    "outlier_removal(l)"
   ]
  },
  {
   "cell_type": "code",
   "execution_count": 80,
   "id": "551ee500",
   "metadata": {
    "scrolled": false
   },
   "outputs": [],
   "source": [
    "plt.figure(figsize=(15,8))\n",
    "for i, j in enumerate(['age','bmi','avg_glucose_level']):\n",
    "  plt.subplot(3,4,i+1)\n",
    "  sns.boxplot(y=df[j])\n",
    "  plt.title(f\"{j}\")\n",
    "plt.tight_layout()\n",
    "plt.show()"
   ]
  },
  {
   "cell_type": "code",
   "execution_count": 81,
   "id": "494d6e66",
   "metadata": {},
   "outputs": [],
   "source": [
    "from sklearn.preprocessing import LabelEncoder\n",
    "label_encoders={}\n",
    "for col in df.select_dtypes(include=['object']):\n",
    "    label_encoders[col]=LabelEncoder()\n",
    "    df[col] = label_encoders[col].fit_transform(df[col])\n",
    "df"
   ]
  },
  {
   "cell_type": "code",
   "execution_count": 82,
   "id": "9e120c2d",
   "metadata": {},
   "outputs": [],
   "source": [
    "label_encoders"
   ]
  },
  {
   "cell_type": "code",
   "execution_count": 83,
   "id": "97e0e088",
   "metadata": {},
   "outputs": [],
   "source": [
    "from sklearn.preprocessing import StandardScaler\n",
    "from sklearn.model_selection import train_test_split\n",
    "from imblearn.under_sampling import NearMiss"
   ]
  },
  {
   "cell_type": "code",
   "execution_count": 84,
   "id": "e87bd327",
   "metadata": {},
   "outputs": [],
   "source": [
    "x = df.drop(['stroke'],axis=1)\n",
    "x"
   ]
  },
  {
   "cell_type": "code",
   "execution_count": 85,
   "id": "1690dd8d",
   "metadata": {},
   "outputs": [],
   "source": [
    "y = df['stroke']\n",
    "y"
   ]
  },
  {
   "cell_type": "code",
   "execution_count": 86,
   "id": "ddcee036",
   "metadata": {},
   "outputs": [],
   "source": [
    "from sklearn.preprocessing import StandardScaler\n",
    "scaler = StandardScaler()\n",
    "x_scaled = scaler.fit_transform(x)"
   ]
  },
  {
   "cell_type": "code",
   "execution_count": 87,
   "id": "e2be0af3",
   "metadata": {},
   "outputs": [],
   "source": [
    "nm=NearMiss(n_neighbors=5,sampling_strategy='majority',version=1)\n",
    "x_resampled,y_resampled=nm.fit_resample(x_scaled,y)"
   ]
  },
  {
   "cell_type": "code",
   "execution_count": 88,
   "id": "03c8c94d",
   "metadata": {},
   "outputs": [],
   "source": [
    "xtrain,xtest,ytrain,ytest = train_test_split(x_resampled, y_resampled, test_size=0.1, random_state=3)\n",
    "print(xtrain.shape)\n",
    "print(xtest.shape)"
   ]
  },
  {
   "cell_type": "code",
   "execution_count": 89,
   "id": "b88ffb64",
   "metadata": {},
   "outputs": [],
   "source": [
    "models = [\n",
    "    (RandomForestClassifier, {\"n_estimators\": 100, \"random_state\": 42}),\n",
    "    (DecisionTreeClassifier, {\"random_state\": 42}),\n",
    "    (GradientBoostingClassifier, {\"random_state\": 42}),\n",
    "    (AdaBoostClassifier, {\"n_estimators\": 50, \"random_state\": 42}),\n",
    "    (xgb.XGBClassifier, {\"n_estimators\": 100, \"random_state\": 42}),\n",
    "    (LogisticRegression, {\"max_iter\": 1000, \"random_state\": 42}),\n",
    "    (SVC, {\"kernel\": \"linear\"}),\n",
    "    (KNeighborsClassifier, {\"n_neighbors\": 5}),\n",
    "    (GaussianNB,{})]\n",
    "results = {}\n",
    "for model_class, model_params in models:\n",
    "    model = model_class(**model_params)\n",
    "    model.fit(xtrain, ytrain)\n",
    "    ypred = model.predict(xtest)\n",
    "    accuracy = accuracy_score(ytest, ypred)\n",
    "    model_name = model_class.__name__\n",
    "    results[model_name] = accuracy\n",
    "for model_name, accuracy in results.items():\n",
    "    print(f\"{model_name}: Accuracy = {accuracy}\")"
   ]
  },
  {
   "cell_type": "code",
   "execution_count": 90,
   "id": "fa8012b9",
   "metadata": {
    "scrolled": true
   },
   "outputs": [],
   "source": [
    "model = AdaBoostClassifier(n_estimators=300, learning_rate=0.2)\n",
    "model.fit(xtrain, ytrain)\n",
    "ypred = model.predict(xtest)\n",
    "print(\"Test prediction accuracy =\",np.mean(ypred == ytest)*100)\n",
    "print(classification_report(ytest,ypred))"
   ]
  },
  {
   "cell_type": "code",
   "execution_count": 91,
   "id": "a7b7965d",
   "metadata": {},
   "outputs": [],
   "source": [
    "import pickle\n",
    "trainedstrokemodel = {\n",
    "    'model':model,\n",
    "    'scaler':scaler\n",
    "}\n",
    "label_encoders = label_encoders"
   ]
  },
  {
   "cell_type": "code",
   "execution_count": 92,
   "id": "0c02e340",
   "metadata": {},
   "outputs": [],
   "source": [
    "with open('..\\\\pkl_dump\\\\trainedstrokemodel.pkl','wb') as file:\n",
    "    pickle.dump(trainedstrokemodel,file)\n",
    "with open('..\\\\pkl_dump\\\\trainedlabelencoders.pkl','wb') as file:\n",
    "    pickle.dump(label_encoders,file)"
   ]
  }
 ],
 "metadata": {
  "kernelspec": {
   "display_name": "Python 3 (ipykernel)",
   "language": "python",
   "name": "python3"
  },
  "language_info": {
   "codemirror_mode": {
    "name": "ipython",
    "version": 3
   },
   "file_extension": ".py",
   "mimetype": "text/x-python",
   "name": "python",
   "nbconvert_exporter": "python",
   "pygments_lexer": "ipython3",
   "version": "3.9.10"
  }
 },
 "nbformat": 4,
 "nbformat_minor": 5
}
